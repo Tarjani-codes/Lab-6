{
  "nbformat": 4,
  "nbformat_minor": 0,
  "metadata": {
    "colab": {
      "provenance": []
    },
    "kernelspec": {
      "name": "python3",
      "display_name": "Python 3"
    },
    "language_info": {
      "name": "python"
    }
  },
  "cells": [
    {
      "cell_type": "code",
      "execution_count": null,
      "metadata": {
        "colab": {
          "base_uri": "https://localhost:8080/"
        },
        "id": "_07KQVu0mK5P",
        "outputId": "7dbc8acc-af27-4821-9ddb-ee7d7412c737"
      },
      "outputs": [
        {
          "output_type": "stream",
          "name": "stdout",
          "text": [
            "Boys: 2\n",
            "Girls: 3\n"
          ]
        }
      ],
      "source": [
        "t1 = [\"Sparshi\", (\"Aryan\",), \"Tarjani\", (\"Nirmit\",), \"Esha\"]\n",
        "boys = sum(isinstance(t1, tuple) for t1 in t1)\n",
        "girls = len(t1) - boys\n",
        "\n",
        "print(\"Boys:\", boys)\n",
        "print(\"Girls:\", girls)\n"
      ]
    }
  ]
}