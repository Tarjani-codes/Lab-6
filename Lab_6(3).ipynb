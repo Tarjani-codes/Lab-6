{
  "nbformat": 4,
  "nbformat_minor": 0,
  "metadata": {
    "colab": {
      "provenance": []
    },
    "kernelspec": {
      "name": "python3",
      "display_name": "Python 3"
    },
    "language_info": {
      "name": "python"
    }
  },
  "cells": [
    {
      "cell_type": "code",
      "execution_count": 2,
      "metadata": {
        "colab": {
          "base_uri": "https://localhost:8080/"
        },
        "id": "wRRG1N3gZEsg",
        "outputId": "00984b8c-99c3-4c93-dace-18b893186501"
      },
      "outputs": [
        {
          "output_type": "stream",
          "name": "stdout",
          "text": [
            "Days between: 9\n"
          ]
        }
      ],
      "source": [
        "from datetime import date\n",
        "\n",
        "date1 = (19, 9, 2023)\n",
        "date2 = (28, 9, 2023)\n",
        "d1 = date(*reversed(date1))\n",
        "d2 = date(*reversed(date2))\n",
        "days_between = abs((d2 - d1).days)\n",
        "print(\"Days between:\", days_between)\n"
      ]
    }
  ]
}