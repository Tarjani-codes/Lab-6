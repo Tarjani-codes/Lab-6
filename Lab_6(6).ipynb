{
  "nbformat": 4,
  "nbformat_minor": 0,
  "metadata": {
    "colab": {
      "provenance": []
    },
    "kernelspec": {
      "name": "python3",
      "display_name": "Python 3"
    },
    "language_info": {
      "name": "python"
    }
  },
  "cells": [
    {
      "cell_type": "code",
      "execution_count": null,
      "metadata": {
        "id": "ZVnmE9XffF2o"
      },
      "outputs": [],
      "source": [
        "t = (1, 2, 3, 4, 5)\n",
        "temp_list= list(t)\n",
        "temp_list[1] = 10\n",
        "t = tuple(temp_list)\n",
        "\n",
        "print(t)\n"
      ]
    }
  ]
}