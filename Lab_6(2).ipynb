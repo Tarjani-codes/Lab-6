{
  "nbformat": 4,
  "nbformat_minor": 0,
  "metadata": {
    "colab": {
      "provenance": []
    },
    "kernelspec": {
      "name": "python3",
      "display_name": "Python 3"
    },
    "language_info": {
      "name": "python"
    }
  },
  "cells": [
    {
      "cell_type": "code",
      "execution_count": null,
      "metadata": {
        "colab": {
          "base_uri": "https://localhost:8080/"
        },
        "id": "tma6_NGxq913",
        "outputId": "e3b9496b-ddb1-435e-ae2a-99a21dd941d0"
      },
      "outputs": [
        {
          "output_type": "stream",
          "name": "stdout",
          "text": [
            "[87, 84, 13]\n",
            "['Tarjani', 'Sparshi', 'Vashishth']\n",
            "[18, 19, 24]\n"
          ]
        }
      ],
      "source": [
        "students = [(87, \"Tarjani\", 18), (84, \"Sparshi\", 19), (13, \"Vashishth\", 24)]\n",
        "\n",
        "roll_nos, names, ages = zip(*students)\n",
        "\n",
        "print(list(roll_nos))\n",
        "print(list(names))\n",
        "print(list(ages))\n"
      ]
    }
  ]
}