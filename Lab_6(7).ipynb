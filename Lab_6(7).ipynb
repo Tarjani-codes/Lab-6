{
  "nbformat": 4,
  "nbformat_minor": 0,
  "metadata": {
    "colab": {
      "provenance": []
    },
    "kernelspec": {
      "name": "python3",
      "display_name": "Python 3"
    },
    "language_info": {
      "name": "python"
    }
  },
  "cells": [
    {
      "cell_type": "code",
      "execution_count": null,
      "metadata": {
        "id": "VkzvqpTok4iu"
      },
      "outputs": [],
      "source": [
        "t = (1, 2, 3, 4, 5)\n",
        "T = tuple(x for x in t if x != 5)\n",
        "\n",
        "print(T)\n"
      ]
    }
  ]
}