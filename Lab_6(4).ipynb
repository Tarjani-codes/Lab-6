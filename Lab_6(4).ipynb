{
  "nbformat": 4,
  "nbformat_minor": 0,
  "metadata": {
    "colab": {
      "provenance": []
    },
    "kernelspec": {
      "name": "python3",
      "display_name": "Python 3"
    },
    "language_info": {
      "name": "python"
    }
  },
  "cells": [
    {
      "cell_type": "code",
      "execution_count": 1,
      "metadata": {
        "colab": {
          "base_uri": "https://localhost:8080/"
        },
        "id": "-qfk2d9_cTdN",
        "outputId": "da663912-d324-4c6a-f307-af21931924eb"
      },
      "outputs": [
        {
          "output_type": "stream",
          "name": "stdout",
          "text": [
            "[('Whey', 3000), ('Beer', 1000), ('Subway', 220), ('Coffee', 100)]\n"
          ]
        }
      ],
      "source": [
        "from operator import itemgetter\n",
        "\n",
        "food_items = [(\"Subway\", 220), (\"Coffee\", 100), (\"Whey\", 3000), (\"Beer\", 1000)]\n",
        "sorted_items = sorted(food_items, key=itemgetter(1), reverse=True)\n",
        "\n",
        "print(sorted_items)\n"
      ]
    }
  ]
}