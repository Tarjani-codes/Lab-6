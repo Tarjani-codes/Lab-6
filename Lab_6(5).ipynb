{
  "nbformat": 4,
  "nbformat_minor": 0,
  "metadata": {
    "colab": {
      "provenance": []
    },
    "kernelspec": {
      "name": "python3",
      "display_name": "Python 3"
    },
    "language_info": {
      "name": "python"
    }
  },
  "cells": [
    {
      "cell_type": "code",
      "execution_count": 1,
      "metadata": {
        "colab": {
          "base_uri": "https://localhost:8080/"
        },
        "id": "Jp4wHBGEdIds",
        "outputId": "da155880-5cec-421e-9223-e86cd2b7f470"
      },
      "outputs": [
        {
          "output_type": "stream",
          "name": "stdout",
          "text": [
            "[(1, 2), (3, 4), (5, 6)]\n"
          ]
        }
      ],
      "source": [
        "tuples_list = [(1, 2), (), (3, 4), (), (5,6)]\n",
        "cleaned_list = [t for t in tuples_list if t]\n",
        "\n",
        "print(cleaned_list)\n"
      ]
    }
  ]
}